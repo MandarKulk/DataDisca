{
 "cells": [
  {
   "cell_type": "code",
   "execution_count": 49,
   "metadata": {},
   "outputs": [
    {
     "name": "stdout",
     "output_type": "stream",
     "text": [
      "Connection Established\n",
      "Remote Path Changed\n",
      "C:\\Users\\manda\\OneDrive\\Documents\\Data Disca\\server_machine_stats\\\n",
      "['processor_memory_stats_2020_08_06_05.txt', 'processor_memory_stats_2020_08_06_06.txt', 'processor_memory_stats_2020_08_06_07.txt', 'processor_memory_stats_2020_08_06_08.txt', 'processor_memory_stats_2020_08_06_09.txt', 'processor_memory_stats_2020_08_06_10.txt', 'processor_memory_stats_2020_08_06_11.txt', 'processor_memory_stats_2020_08_06_12.txt', 'processor_memory_stats_2020_08_06_13.txt', 'processor_memory_stats_2020_08_06_14.txt', 'processor_memory_stats_2020_08_06_15.txt', 'processor_memory_stats_2020_08_06_16.txt', 'processor_memory_stats_2020_08_06_17.txt', 'processor_memory_stats_2020_08_06_18.txt', 'processor_memory_stats_2020_08_06_19.txt', 'processor_memory_stats_2020_08_06_20.txt', 'processor_memory_stats_2020_08_06_21.txt', 'processor_memory_stats_2020_08_06_22.txt', 'processor_memory_stats_2020_08_06_23.txt', 'processor_memory_stats_2020_08_07_00.txt', 'processor_memory_stats_2020_08_07_01.txt', 'processor_memory_stats_2020_08_07_02.txt', 'processor_memory_stats_2020_08_07_03.txt', 'processor_memory_stats_2020_08_07_04.txt', 'processor_memory_stats_2020_08_07_05.txt', 'processor_memory_stats_2020_08_07_06.txt', 'processor_memory_stats_2020_08_07_07.txt', 'processor_memory_stats_2020_08_07_08.txt', 'processor_memory_stats_2020_08_07_09.txt', 'processor_memory_stats_2020_08_07_10.txt', 'processor_memory_stats_2020_08_07_11.txt', 'processor_memory_stats_2020_08_07_12.txt', 'processor_memory_stats_2020_08_07_13.txt', 'processor_memory_stats_2020_08_07_14.txt', 'processor_memory_stats_2020_08_07_15.txt', 'processor_memory_stats_2020_08_07_16.txt', 'processor_memory_stats_2020_08_07_17.txt', 'processor_memory_stats_2020_08_07_18.txt', 'processor_memory_stats_2020_08_07_19.txt', 'processor_memory_stats_2020_08_07_20.txt', 'processor_memory_stats_2020_08_07_21.txt', 'processor_memory_stats_2020_08_07_22.txt', 'processor_memory_stats_2020_08_07_23.txt', 'processor_memory_stats_2020_08_08_00.txt', 'processor_memory_stats_2020_08_08_01.txt', 'processor_memory_stats_2020_08_08_02.txt', 'processor_memory_stats_2020_08_08_03.txt', 'processor_memory_stats_2020_08_08_04.txt', 'processor_memory_stats_2020_08_08_05.txt', 'processor_memory_stats_2020_08_08_06.txt', 'processor_memory_stats_2020_08_08_07.txt', 'processor_memory_stats_2020_08_08_08.txt', 'processor_memory_stats_2020_08_08_09.txt', 'processor_memory_stats_2020_08_08_10.txt', 'processor_memory_stats_2020_08_08_11.txt', 'processor_memory_stats_2020_08_08_12.txt', 'processor_memory_stats_2020_08_08_13.txt', 'processor_memory_stats_2020_08_08_14.txt', 'processor_memory_stats_2020_08_08_15.txt', 'processor_memory_stats_2020_08_08_16.txt', 'processor_memory_stats_2020_08_08_17.txt', 'processor_memory_stats_2020_08_08_18.txt', 'processor_memory_stats_2020_08_08_19.txt', 'processor_memory_stats_2020_08_08_20.txt', 'processor_memory_stats_2020_08_08_21.txt', 'processor_memory_stats_2020_08_08_22.txt', 'processor_memory_stats_2020_08_08_23.txt', 'processor_memory_stats_2020_08_09_00.txt', 'processor_memory_stats_2020_08_09_01.txt', 'processor_memory_stats_2020_08_09_02.txt', 'processor_memory_stats_2020_08_09_03.txt', 'processor_memory_stats_2020_08_09_04.txt', 'processor_memory_stats_2020_08_09_05.txt', 'processor_memory_stats_2020_08_09_06.txt', 'processor_memory_stats_2020_08_09_07.txt', 'processor_memory_stats_2020_08_09_08.txt', 'processor_memory_stats_2020_08_09_09.txt', 'processor_memory_stats_2020_08_09_10.txt', 'processor_memory_stats_2020_08_09_11.txt', 'processor_memory_stats_2020_08_09_12.txt', 'processor_memory_stats_2020_08_09_13.txt', 'processor_memory_stats_2020_08_09_14.txt', 'processor_memory_stats_2020_08_09_15.txt', 'processor_memory_stats_2020_08_09_16.txt', 'processor_memory_stats_2020_08_09_17.txt', 'processor_memory_stats_2020_08_09_18.txt', 'processor_memory_stats_2020_08_09_19.txt', 'processor_memory_stats_2020_08_09_20.txt', 'processor_memory_stats_2020_08_09_21.txt', 'processor_memory_stats_2020_08_09_22.txt', 'processor_memory_stats_2020_08_09_23.txt', 'processor_memory_stats_2020_08_10_00.txt', 'processor_memory_stats_2020_08_10_01.txt', 'processor_memory_stats_2020_08_10_02.txt', 'processor_memory_stats_2020_08_10_03.txt', 'processor_memory_stats_2020_08_10_04.txt', 'processor_memory_stats_2020_08_10_05.txt', 'processor_memory_stats_2020_08_10_06.txt', 'processor_memory_stats_2020_08_10_07.txt', 'processor_memory_stats_2020_08_10_08.txt', 'processor_memory_stats_2020_08_10_09.txt', 'processor_memory_stats_2020_08_10_10.txt', 'processor_memory_stats_2020_08_10_11.txt', 'processor_memory_stats_2020_08_10_12.txt', 'processor_memory_stats_2020_08_10_13.txt', 'processor_memory_stats_2020_08_10_14.txt', 'processor_memory_stats_2020_08_10_15.txt', 'processor_memory_stats_2020_08_10_16.txt', 'processor_memory_stats_2020_08_10_17.txt', 'processor_memory_stats_2020_08_10_18.txt', 'processor_memory_stats_2020_08_10_19.txt', 'processor_memory_stats_2020_08_10_20.txt', 'processor_memory_stats_2020_08_10_21.txt', 'processor_memory_stats_2020_08_10_22.txt', 'processor_memory_stats_2020_08_10_23.txt', 'processor_memory_stats_2020_08_11_00.txt', 'processor_memory_stats_2020_08_11_01.txt', 'processor_memory_stats_2020_08_11_02.txt', 'processor_memory_stats_2020_08_11_03.txt', 'processor_memory_stats_2020_08_11_04.txt', 'processor_memory_stats_2020_08_11_05.txt', 'processor_memory_stats_2020_08_11_06.txt', 'processor_memory_stats_2020_08_11_07.txt', 'processor_memory_stats_2020_08_11_08.txt', 'processor_memory_stats_2020_08_11_09.txt', 'processor_memory_stats_2020_08_11_10.txt', 'processor_memory_stats_2020_08_11_11.txt', 'processor_memory_stats_2020_08_11_12.txt', 'processor_memory_stats_2020_08_11_13.txt']\n",
      "All Files downloaded\n",
      "all files removed\n",
      "Connection Closed\n"
     ]
    }
   ],
   "source": [
    "import pysftp as sftp\n",
    "\n",
    "class SFTPClient:\n",
    "\n",
    "    def __init__(self,host: str,user: str,pwd: str):\n",
    "        self.host = host\n",
    "        self.user = user\n",
    "        self.pwd = pwd\n",
    "\n",
    "    def connect_with_user_pwd(self):\n",
    "        try:\n",
    "            cnopts = sftp.CnOpts()\n",
    "            cnopts.hostkeys = None\n",
    "        \n",
    "            self.s = sftp.Connection(host = self.host, username = self.user, password = self.pwd, cnopts = cnopts)\n",
    "            \n",
    "            print('Connection Established')\n",
    "        except:\n",
    "            print('Connection could not be established')\n",
    "    \n",
    "    def set_remote_dir(self, path: str):\n",
    "        try:\n",
    "            self.s.cwd(path)\n",
    "            print('Remote Path Changed')\n",
    "        except:\n",
    "            print(\"Remote Path failed to change\")\n",
    "    \n",
    "    def set_local_dir(self, path: str):\n",
    "        self.local_path = path\n",
    "        if self.local_path is None:\n",
    "            return 'Local Path not set'\n",
    "        else:\n",
    "            print(self.local_path)\n",
    "            return 'Local Path set'\n",
    "    \n",
    "    def list_files(self):\n",
    "        try:\n",
    "            self.data = self.s.listdir()\n",
    "            print(self.data)\n",
    "        except:\n",
    "            print('files cannot be listed')\n",
    "        \n",
    "    def download_files(self):\n",
    "        try:\n",
    "            for i in self.data:\n",
    "                self.s.get(i,self.local_path + i)\n",
    "            print('All Files downloaded')\n",
    "        except:\n",
    "            print('files could not be downloaded')\n",
    "    \n",
    "    def remove_files(self):\n",
    "        try:\n",
    "            for i in self.data:\n",
    "                self.s.remove(i)\n",
    "            print('all files removed')\n",
    "            self.s.close()\n",
    "            print('Connection Closed')\n",
    "        except:\n",
    "            print('error in deleting files')\n",
    "\n",
    "\n",
    "test = SFTPClient('40.115.66.2','azureuser','Azureuser123')\n",
    "test.connect_with_user_pwd()\n",
    "test.set_remote_dir('/home/azureuser/machine_stats/')\n",
    "test.set_local_dir('C:\\\\Users\\\\manda\\\\OneDrive\\\\Documents\\\\Data Disca\\\\server_machine_stats\\\\')\n",
    "test.list_files()\n",
    "test.download_files()\n",
    "test.remove_files()"
   ]
  },
  {
   "cell_type": "code",
   "execution_count": null,
   "metadata": {},
   "outputs": [],
   "source": []
  }
 ],
 "metadata": {
  "kernelspec": {
   "display_name": "Python 3",
   "language": "python",
   "name": "python3"
  },
  "language_info": {
   "codemirror_mode": {
    "name": "ipython",
    "version": 3
   },
   "file_extension": ".py",
   "mimetype": "text/x-python",
   "name": "python",
   "nbconvert_exporter": "python",
   "pygments_lexer": "ipython3",
   "version": "3.7.6"
  }
 },
 "nbformat": 4,
 "nbformat_minor": 4
}
